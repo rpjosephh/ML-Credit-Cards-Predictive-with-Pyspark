{
 "cells": [
  {
   "cell_type": "markdown",
   "metadata": {},
   "source": [
    "# 🏄 LBB: Predicting Credit Card Balance\n",
    "\n",
    "Suatu institusi perbankan multinasional ingin mempelajari faktor-faktor yang mempengaruhi **balance kartu kredit** pemegang kartunya menggunakan machine learning. Prediksi balance kartu kredit dapat memberikan manfaat yang signifikan bagi perbankan yaitu perbankan dapat meningkatkan kualitas layanan dan keuntungan. Analisis ini juga dapat membantu perusahaan untuk memahami perilaku pemegang kartu.\n"
   ]
  },
  {
   "cell_type": "markdown",
   "metadata": {},
   "source": [
    "## 1. Read data `credit card`\n",
    "\n",
    "Kita akan memahami konsep dasar dari linear regression dengan menggunakan data `credit_card.csv`, yaitu dataset yang terdiri dari informasi 310 pemegang kartu kredit di suatu perbankan."
   ]
  },
  {
   "cell_type": "code",
   "execution_count": 1,
   "metadata": {},
   "outputs": [],
   "source": [
    "# code here\n",
    "from pyspark.sql import SparkSession\n",
    "\n",
    "spark = SparkSession.builder.appName(\"LBB DSS Big Data with Pyspark Januari 2025\").getOrCreate()"
   ]
  },
  {
   "cell_type": "code",
   "execution_count": 2,
   "metadata": {},
   "outputs": [],
   "source": [
    "credit_card = spark.read.csv('data_input/credit_card.csv', header=True, inferSchema=True)"
   ]
  },
  {
   "cell_type": "code",
   "execution_count": 3,
   "metadata": {},
   "outputs": [
    {
     "name": "stdout",
     "output_type": "stream",
     "text": [
      "+------------+-----+------+-----+---+---------+------+-------+-------+---------+-------+\n",
      "|      Income|Limit|Rating|Cards|Age|Education|Gender|Student|Married|Ethnicity|Balance|\n",
      "+------------+-----+------+-----+---+---------+------+-------+-------+---------+-------+\n",
      "|  221.741881| 3606|   283|    2| 34|       11|  Male|     No|    Yes|Caucasian|    333|\n",
      "|11241.300625| 6645|   483|    3| 82|       15|Female|    Yes|    Yes|    Asian|    903|\n",
      "|10939.695649| 7075|   514|    4| 71|       11|  Male|     No|     No|    Asian|    580|\n",
      "|22178.357776| 9504|   681|    3| 36|       11|Female|     No|     No|    Asian|    964|\n",
      "| 3122.797924| 4897|   357|    2| 68|       16|  Male|     No|    Yes|Caucasian|    331|\n",
      "+------------+-----+------+-----+---+---------+------+-------+-------+---------+-------+\n",
      "only showing top 5 rows\n",
      "\n"
     ]
    }
   ],
   "source": [
    "credit_card.show(5)"
   ]
  },
  {
   "cell_type": "markdown",
   "metadata": {
    "vscode": {
     "languageId": "plaintext"
    }
   },
   "source": [
    "**Deskripsi:**\n",
    "\n",
    "- `Income`: Besaran gaji nasabah per tahun (dalam $100)\n",
    "- `Limit` : Besaran kredit limit\n",
    "- `Rating` : Skor yang diberikan kepada individu berdasarkan kelayakan kreditnya. Semakin besar maka semakin baik\n",
    "- `Cards` : Jumlah banyaknya kartu kredit yang dimiliki oleh nasabah\n",
    "- `Age` : Usia nasabah\n",
    "- `Education` : Level/lamanya pendidikan yang ditempuh oleh nasabah\n",
    "- `Gender`: Jenis kelamin nasabah\n",
    "    - Male\n",
    "    - Female\n",
    "- `Student` : Apakah nasabah seorang pelajar atau bukan\n",
    "    - Yes -> Pelajar\n",
    "    - No -> Bukan pelajar\n",
    "- `Married`: Status pernikahan\n",
    "    - Yes -> Sudah menikah\n",
    "    - No -> Belum menikah\n",
    "- `Ethnicity`: Etnis nasabah\n",
    "    - African American\n",
    "    - Asian\n",
    "    - Caucasian\n",
    "- `Balance`: Rata-rata pengeluaran dalam 3 bulan menggunakan kartu kredit\n",
    "\n",
    "**Asumsi data**: Balance dihitung sebagai rata-rata transaksi selama periode penagihan/billing cycle (dalam hal ini 3 bulan). Sebagai contoh, jika seorang pemegang kartu mengeluarkan `$400`, `$500`, dan `$600` dalam 3 bulan, maka Balance akan dicatat sebagai `$500`."
   ]
  },
  {
   "cell_type": "markdown",
   "metadata": {},
   "source": [
    "## 2. Data Pre-processing\n",
    "\n",
    "#### 1️⃣ Check Data Stucture and Data Types"
   ]
  },
  {
   "cell_type": "code",
   "execution_count": 4,
   "metadata": {},
   "outputs": [
    {
     "name": "stdout",
     "output_type": "stream",
     "text": [
      "root\n",
      " |-- Income: double (nullable = true)\n",
      " |-- Limit: integer (nullable = true)\n",
      " |-- Rating: integer (nullable = true)\n",
      " |-- Cards: integer (nullable = true)\n",
      " |-- Age: integer (nullable = true)\n",
      " |-- Education: integer (nullable = true)\n",
      " |-- Gender: string (nullable = true)\n",
      " |-- Student: string (nullable = true)\n",
      " |-- Married: string (nullable = true)\n",
      " |-- Ethnicity: string (nullable = true)\n",
      " |-- Balance: integer (nullable = true)\n",
      "\n"
     ]
    }
   ],
   "source": [
    "# code here\n",
    "credit_card.printSchema()"
   ]
  },
  {
   "cell_type": "code",
   "execution_count": 5,
   "metadata": {},
   "outputs": [
    {
     "name": "stdout",
     "output_type": "stream",
     "text": [
      "+-------+------------------+------------------+-----------------+------------------+------------------+------------------+------+-------+-------+----------------+-----------------+\n",
      "|summary|            Income|             Limit|           Rating|             Cards|               Age|         Education|Gender|Student|Married|       Ethnicity|          Balance|\n",
      "+-------+------------------+------------------+-----------------+------------------+------------------+------------------+------+-------+-------+----------------+-----------------+\n",
      "|  count|               310|               310|              310|               310|               310|               310|   310|    310|    310|             310|              310|\n",
      "|   mean|3928.2701042225817| 5485.467741935484|405.0516129032258| 2.996774193548387| 55.60645161290323|13.425806451612903|  NULL|   NULL|   NULL|            NULL|670.9870967741936|\n",
      "| stddev|  6180.70944183338|2052.4517434400805|137.9673894937973|1.4267404339958059|17.341794091721237| 3.208904252176217|  NULL|   NULL|   NULL|            NULL|413.9040191273772|\n",
      "|    min|        107.205316|              1160|              126|                 1|                23|                 5|Female|     No|     No|African American|                5|\n",
      "|    max|      34832.249956|             13913|              982|                 9|                98|                20|  Male|    Yes|    Yes|       Caucasian|             1999|\n",
      "+-------+------------------+------------------+-----------------+------------------+------------------+------------------+------+-------+-------+----------------+-----------------+\n",
      "\n"
     ]
    }
   ],
   "source": [
    "credit_card.describe().show()"
   ]
  },
  {
   "cell_type": "markdown",
   "metadata": {},
   "source": [
    "### 2️⃣ Dummy Variable Encoding\n",
    "\n",
    "- **List categorical columns**"
   ]
  },
  {
   "cell_type": "code",
   "execution_count": 6,
   "metadata": {},
   "outputs": [],
   "source": [
    "# code here\n",
    "cat_columns = ['Student','Married','Ethnicity']"
   ]
  },
  {
   "cell_type": "markdown",
   "metadata": {},
   "source": [
    "- **Buat list kosong untuk tahapan pipeline**"
   ]
  },
  {
   "cell_type": "code",
   "execution_count": 7,
   "metadata": {},
   "outputs": [],
   "source": [
    "# code here\n",
    "indexers = []\n",
    "encoders = []"
   ]
  },
  {
   "cell_type": "markdown",
   "metadata": {},
   "source": [
    "- **Melakukan tahapan `StringIndexer` dan `OneHotEncoder`**"
   ]
  },
  {
   "cell_type": "code",
   "execution_count": 8,
   "metadata": {},
   "outputs": [],
   "source": [
    "from pyspark.ml.feature import StringIndexer, OneHotEncoder"
   ]
  },
  {
   "cell_type": "code",
   "execution_count": 9,
   "metadata": {},
   "outputs": [],
   "source": [
    "# code here\n",
    "for col in cat_columns:\n",
    "    # Create a StringIndexer for each column\n",
    "    indexer = StringIndexer(inputCol=col, outputCol=f\"{col}_index\", stringOrderType='alphabetAsc', handleInvalid=\"keep\")\n",
    "    indexers.append(indexer)\n",
    "    \n",
    "    # Create an OneHotEncoder for the indexed column\n",
    "    encoder = OneHotEncoder(inputCol=f\"{col}_index\", outputCol=f\"{col}_encoded\")\n",
    "    encoders.append(encoder)"
   ]
  },
  {
   "cell_type": "markdown",
   "metadata": {},
   "source": [
    "- **Membuat pipeline**"
   ]
  },
  {
   "cell_type": "code",
   "execution_count": 10,
   "metadata": {},
   "outputs": [],
   "source": [
    "# code here\n",
    "from pyspark.ml import Pipeline\n",
    "\n",
    "# Combine indexers and encoders into a single pipeline\n",
    "pipeline = Pipeline(stages = indexers + encoders)"
   ]
  },
  {
   "cell_type": "markdown",
   "metadata": {},
   "source": [
    "- **Fit pipeline**"
   ]
  },
  {
   "cell_type": "code",
   "execution_count": 11,
   "metadata": {},
   "outputs": [],
   "source": [
    "# code here\n",
    "pipeline_model = pipeline.fit(credit_card)"
   ]
  },
  {
   "cell_type": "code",
   "execution_count": 12,
   "metadata": {},
   "outputs": [],
   "source": [
    "credit_card = pipeline_model.transform(credit_card)"
   ]
  },
  {
   "cell_type": "markdown",
   "metadata": {},
   "source": [
    "### 3️⃣ Splitting Train-Test Data\n",
    "\n",
    "Silahkan untuk melakukan proses splitting data dengan kondisi sebagai berikut : \n",
    "- Proporsi split = 80:20\n",
    "- Seed = 123"
   ]
  },
  {
   "cell_type": "code",
   "execution_count": 13,
   "metadata": {},
   "outputs": [],
   "source": [
    "# code here\n",
    "train_data, test_data = credit_card.randomSplit([0.8, 0.2], seed = 123)"
   ]
  },
  {
   "cell_type": "markdown",
   "metadata": {},
   "source": [
    "### 4️⃣ Feature Selection\n",
    "\n",
    "Melakukan pemilihan fitur dan menggabungkannya menjadi satu kesatuan vector dengan menggunakan `VectorAssembler()`"
   ]
  },
  {
   "cell_type": "markdown",
   "metadata": {},
   "source": [
    "- **List kolom predictor**"
   ]
  },
  {
   "cell_type": "code",
   "execution_count": 14,
   "metadata": {},
   "outputs": [
    {
     "name": "stdout",
     "output_type": "stream",
     "text": [
      "+------------+-----+------+-----+---+---------+------+-------+-------+---------+-------+-------------+-------------+---------------+---------------+---------------+-----------------+\n",
      "|      Income|Limit|Rating|Cards|Age|Education|Gender|Student|Married|Ethnicity|Balance|Student_index|Married_index|Ethnicity_index|Student_encoded|Married_encoded|Ethnicity_encoded|\n",
      "+------------+-----+------+-----+---+---------+------+-------+-------+---------+-------+-------------+-------------+---------------+---------------+---------------+-----------------+\n",
      "|  221.741881| 3606|   283|    2| 34|       11|  Male|     No|    Yes|Caucasian|    333|          0.0|          1.0|            2.0|  (2,[0],[1.0])|  (2,[1],[1.0])|    (3,[2],[1.0])|\n",
      "|11241.300625| 6645|   483|    3| 82|       15|Female|    Yes|    Yes|    Asian|    903|          1.0|          1.0|            1.0|  (2,[1],[1.0])|  (2,[1],[1.0])|    (3,[1],[1.0])|\n",
      "+------------+-----+------+-----+---+---------+------+-------+-------+---------+-------+-------------+-------------+---------------+---------------+---------------+-----------------+\n",
      "only showing top 2 rows\n",
      "\n"
     ]
    }
   ],
   "source": [
    "credit_card.show(2)"
   ]
  },
  {
   "cell_type": "code",
   "execution_count": 15,
   "metadata": {},
   "outputs": [],
   "source": [
    "# code here\n",
    "feature_predictor = ['Income','Limit','Rating','Cards','Age','Education',\n",
    "                     'Student_encoded','Married_encoded','Ethnicity_encoded']"
   ]
  },
  {
   "cell_type": "markdown",
   "metadata": {},
   "source": [
    "- **Menggabungkan semua fitur**"
   ]
  },
  {
   "cell_type": "code",
   "execution_count": 16,
   "metadata": {},
   "outputs": [],
   "source": [
    "# code here\n",
    "from pyspark.ml.feature import VectorAssembler"
   ]
  },
  {
   "cell_type": "code",
   "execution_count": 17,
   "metadata": {},
   "outputs": [],
   "source": [
    "assembler = VectorAssembler(inputCols = feature_predictor,\n",
    "                            outputCol = 'predictors')"
   ]
  },
  {
   "cell_type": "markdown",
   "metadata": {},
   "source": [
    "- **Transformasi data**"
   ]
  },
  {
   "cell_type": "code",
   "execution_count": 18,
   "metadata": {},
   "outputs": [],
   "source": [
    "# code here\n",
    "train_data = assembler.transform(train_data)\n",
    "test_data = assembler.transform(test_data)"
   ]
  },
  {
   "cell_type": "markdown",
   "metadata": {},
   "source": [
    "## 3. Training Model Regression "
   ]
  },
  {
   "cell_type": "markdown",
   "metadata": {},
   "source": [
    "- **Membangun dan melatih model**"
   ]
  },
  {
   "cell_type": "code",
   "execution_count": 19,
   "metadata": {},
   "outputs": [],
   "source": [
    "# code here\n",
    "from pyspark.ml.regression import LinearRegression"
   ]
  },
  {
   "cell_type": "code",
   "execution_count": 20,
   "metadata": {},
   "outputs": [],
   "source": [
    "lr = LinearRegression(labelCol = 'Balance', #target variable data actual\n",
    "                      featuresCol = 'predictors', #predictor hasil vectorAssembler\n",
    "                      predictionCol = 'balance_predict') #kolom baru yang menyimpan hasil prediksi"
   ]
  },
  {
   "cell_type": "markdown",
   "metadata": {},
   "source": [
    "- **Menampilkan hasil summary**"
   ]
  },
  {
   "cell_type": "markdown",
   "metadata": {},
   "source": [
    "- **Melakukan prediksi**"
   ]
  },
  {
   "cell_type": "code",
   "execution_count": 21,
   "metadata": {},
   "outputs": [],
   "source": [
    "# code here\n",
    "model = lr.fit(train_data)"
   ]
  },
  {
   "cell_type": "markdown",
   "metadata": {},
   "source": [
    "- **Menampilkan hasil prediksi**"
   ]
  },
  {
   "cell_type": "code",
   "execution_count": 22,
   "metadata": {},
   "outputs": [
    {
     "name": "stdout",
     "output_type": "stream",
     "text": [
      "Coefficients: [-0.049300603643392074,0.22248148940186638,1.054978883281222,24.32622367920828,-1.6488877607281467,1.0971767885862416,-245.58907514018634,245.58907514045146,3.280235437750275,-3.2802354372254325,1.3211368253149776,11.824302906323647,-9.89832034667852]\n"
     ]
    }
   ],
   "source": [
    "# code here\n",
    "print(\"Coefficients:\", model.coefficients)"
   ]
  },
  {
   "cell_type": "code",
   "execution_count": 23,
   "metadata": {},
   "outputs": [
    {
     "name": "stdout",
     "output_type": "stream",
     "text": [
      "+----------+-----+------+-----+---+---------+------+-------+-------+----------------+-------+-------------+-------------+---------------+---------------+---------------+-----------------+--------------------+\n",
      "|    Income|Limit|Rating|Cards|Age|Education|Gender|Student|Married|       Ethnicity|Balance|Student_index|Married_index|Ethnicity_index|Student_encoded|Married_encoded|Ethnicity_encoded|          predictors|\n",
      "+----------+-----+------+-----+---+---------+------+-------+-------+----------------+-------+-------------+-------------+---------------+---------------+---------------+-----------------+--------------------+\n",
      "|110.313009| 2923|   232|    3| 25|       18|Female|     No|    Yes|African American|    191|          0.0|          1.0|            0.0|  (2,[0],[1.0])|  (2,[1],[1.0])|    (3,[0],[1.0])|[110.313009,2923....|\n",
      "|115.240225| 3746|   280|    2| 44|       17|Female|     No|    Yes|       Caucasian|    410|          0.0|          1.0|            2.0|  (2,[0],[1.0])|  (2,[1],[1.0])|    (3,[2],[1.0])|[115.240225,3746....|\n",
      "+----------+-----+------+-----+---+---------+------+-------+-------+----------------+-------+-------------+-------------+---------------+---------------+---------------+-----------------+--------------------+\n",
      "only showing top 2 rows\n",
      "\n"
     ]
    }
   ],
   "source": [
    "test_data.show(2)"
   ]
  },
  {
   "cell_type": "code",
   "execution_count": 24,
   "metadata": {},
   "outputs": [],
   "source": [
    "predictions = model.transform(test_data)"
   ]
  },
  {
   "cell_type": "code",
   "execution_count": 25,
   "metadata": {},
   "outputs": [
    {
     "name": "stdout",
     "output_type": "stream",
     "text": [
      "+----------+-----+------+-----+---+---------+------+-------+-------+----------------+-------+-------------+-------------+---------------+---------------+---------------+-----------------+--------------------+------------------+\n",
      "|    Income|Limit|Rating|Cards|Age|Education|Gender|Student|Married|       Ethnicity|Balance|Student_index|Married_index|Ethnicity_index|Student_encoded|Married_encoded|Ethnicity_encoded|          predictors|   balance_predict|\n",
      "+----------+-----+------+-----+---+---------+------+-------+-------+----------------+-------+-------------+-------------+---------------+---------------+---------------+-----------------+--------------------+------------------+\n",
      "|110.313009| 2923|   232|    3| 25|       18|Female|     No|    Yes|African American|    191|          0.0|          1.0|            0.0|  (2,[0],[1.0])|  (2,[1],[1.0])|    (3,[0],[1.0])|[110.313009,2923....| 99.51008591269942|\n",
      "|115.240225| 3746|   280|    2| 44|       17|Female|     No|    Yes|       Caucasian|    410|          0.0|          1.0|            2.0|  (2,[0],[1.0])|  (2,[1],[1.0])|    (3,[2],[1.0])|[115.240225,3746....|265.03669827122997|\n",
      "|     144.0| 4160|   320|    4| 28|       14|Female|     No|    Yes|       Caucasian|    602|          0.0|          1.0|            2.0|  (2,[0],[1.0])|  (2,[1],[1.0])|    (3,[2],[1.0])|[144.0,4160.0,320...| 469.6684371110115|\n",
      "|144.744961| 3182|   259|    2| 58|       18|Female|     No|    Yes|       Caucasian|    210|          0.0|          1.0|            2.0|  (2,[0],[1.0])|  (2,[1],[1.0])|    (3,[2],[1.0])|[144.744961,3182....| 93.96072854292493|\n",
      "|155.151936| 5395|   392|    3| 65|       14|  Male|     No|    Yes|       Caucasian|    955|          0.0|          1.0|            2.0|  (2,[0],[1.0])|  (2,[1],[1.0])|    (3,[2],[1.0])|[155.151936,5395....| 734.5066881158222|\n",
      "+----------+-----+------+-----+---+---------+------+-------+-------+----------------+-------+-------------+-------------+---------------+---------------+---------------+-----------------+--------------------+------------------+\n",
      "only showing top 5 rows\n",
      "\n"
     ]
    }
   ],
   "source": [
    "predictions.show(5)"
   ]
  },
  {
   "cell_type": "code",
   "execution_count": 26,
   "metadata": {},
   "outputs": [
    {
     "name": "stdout",
     "output_type": "stream",
     "text": [
      "+-------+------------------+\n",
      "|balance|   balance_predict|\n",
      "+-------+------------------+\n",
      "|    191| 99.51008591269942|\n",
      "|    410|265.03669827122997|\n",
      "|    602| 469.6684371110115|\n",
      "|    210| 93.96072854292493|\n",
      "|    955| 734.5066881158222|\n",
      "+-------+------------------+\n",
      "only showing top 5 rows\n",
      "\n"
     ]
    }
   ],
   "source": [
    "predictions.select('balance','balance_predict').show(5)"
   ]
  },
  {
   "cell_type": "markdown",
   "metadata": {},
   "source": [
    "## 5. Model Evaluation\n",
    "\n",
    "- **Menghitung nilai MAE**"
   ]
  },
  {
   "cell_type": "code",
   "execution_count": 27,
   "metadata": {},
   "outputs": [],
   "source": [
    "# code here\n",
    "summary_hasil = model.summary"
   ]
  },
  {
   "cell_type": "code",
   "execution_count": 28,
   "metadata": {},
   "outputs": [
    {
     "data": {
      "text/plain": [
       "83.91709294166968"
      ]
     },
     "execution_count": 28,
     "metadata": {},
     "output_type": "execute_result"
    }
   ],
   "source": [
    "summary_hasil.meanAbsoluteError"
   ]
  },
  {
   "cell_type": "markdown",
   "metadata": {},
   "source": [
    "- **Menghitung nilai RMSE**"
   ]
  },
  {
   "cell_type": "code",
   "execution_count": 29,
   "metadata": {},
   "outputs": [
    {
     "data": {
      "text/plain": [
       "102.39806633146488"
      ]
     },
     "execution_count": 29,
     "metadata": {},
     "output_type": "execute_result"
    }
   ],
   "source": [
    "# code here\n",
    "summary_hasil.rootMeanSquaredError"
   ]
  },
  {
   "cell_type": "code",
   "execution_count": 30,
   "metadata": {},
   "outputs": [
    {
     "data": {
      "text/plain": [
       "0.9394115273124833"
      ]
     },
     "execution_count": 30,
     "metadata": {},
     "output_type": "execute_result"
    }
   ],
   "source": [
    "summary_hasil.r2"
   ]
  },
  {
   "cell_type": "code",
   "execution_count": 31,
   "metadata": {},
   "outputs": [
    {
     "data": {
      "text/plain": [
       "0.9359720070289125"
      ]
     },
     "execution_count": 31,
     "metadata": {},
     "output_type": "execute_result"
    }
   ],
   "source": [
    "summary_hasil.r2adj"
   ]
  },
  {
   "cell_type": "markdown",
   "metadata": {},
   "source": [
    "<div class=\"alert alert-success\" role=\"alert\">\n",
    "\n",
    "Interpretasi Hasil :\n",
    "\n",
    "-   Model ini memiliki performa yang sangat baik dengan R² di atas 93%, menunjukkan bahwa model sangat baik dalam menjelaskan variasi data target.\n",
    "\n",
    "-   MAE dan RMSE menunjukkan bahwa rata-rata kesalahan model kecil dibandingkan dengan skala target.\n",
    "\n",
    "-   Perbedaan kecil antara R² dan adjusted R² menunjukkan bahwa model sudah efisien, dengan fitur-fitur yang relevan.\n",
    "\n",
    "</div>"
   ]
  }
 ],
 "metadata": {
  "kernelspec": {
   "display_name": "dss_bigdata",
   "language": "python",
   "name": "python3"
  },
  "language_info": {
   "codemirror_mode": {
    "name": "ipython",
    "version": 3
   },
   "file_extension": ".py",
   "mimetype": "text/x-python",
   "name": "python",
   "nbconvert_exporter": "python",
   "pygments_lexer": "ipython3",
   "version": "3.12.7"
  }
 },
 "nbformat": 4,
 "nbformat_minor": 2
}
